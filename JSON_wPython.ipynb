{
 "cells": [
  {
   "cell_type": "code",
   "execution_count": 1,
   "metadata": {},
   "outputs": [],
   "source": [
    "#import libs and open the file you will write to.\n",
    "\n",
    "from faker import Faker\n",
    "import json\n",
    "output=open('data.json','w')\n",
    "fake = Faker()"
   ]
  },
  {
   "cell_type": "code",
   "execution_count": 2,
   "metadata": {},
   "outputs": [],
   "source": [
    "#we will create 1000 records, as we did in CSV example.\n",
    "#first create a dictionary to hold the data. \n",
    "# add a 'records' key and intialize it with a blank array\n",
    "\n",
    "alldata = {}\n",
    "alldata['records']=[]"
   ]
  },
  {
   "cell_type": "code",
   "execution_count": 7,
   "metadata": {},
   "outputs": [],
   "source": [
    "#Write records: use Faker to create dictionary, then append it to the array.\n",
    "for x in range(1000):\n",
    "    data = {\"name\": fake.name(),\n",
    "    \"age\": fake.random_int(min=18, max=80, step=1),\n",
    "    \"street\": fake.street_address(),\n",
    "    \"city\": fake.city(),\n",
    "    \"state\": fake.state(),\n",
    "    \"zip\": fake.zipcode(),\n",
    "    \"lng\": float(fake.longitude()),\n",
    "    \"lat\": float(fake.latitude())}\n",
    "    alldata['records'].append(data)"
   ]
  },
  {
   "cell_type": "code",
   "execution_count": 8,
   "metadata": {},
   "outputs": [],
   "source": [
    "#write the JSON to a a file using the dump() method.\n",
    "\n",
    "#Getting error here - doesnt like decimal type\n",
    "\n",
    "json.dump(alldata,output)"
   ]
  },
  {
   "cell_type": "code",
   "execution_count": 9,
   "metadata": {},
   "outputs": [],
   "source": [
    "json.dump(alldata,output)"
   ]
  },
  {
   "cell_type": "code",
   "execution_count": null,
   "metadata": {},
   "outputs": [],
   "source": []
  }
 ],
 "metadata": {
  "kernelspec": {
   "display_name": "base",
   "language": "python",
   "name": "python3"
  },
  "language_info": {
   "codemirror_mode": {
    "name": "ipython",
    "version": 3
   },
   "file_extension": ".py",
   "mimetype": "text/x-python",
   "name": "python",
   "nbconvert_exporter": "python",
   "pygments_lexer": "ipython3",
   "version": "3.8.5"
  },
  "orig_nbformat": 4,
  "vscode": {
   "interpreter": {
    "hash": "9f3898b23b7a6e90e0f58791ca25d398771efd3c65d9464e06b7f562b51615dc"
   }
  }
 },
 "nbformat": 4,
 "nbformat_minor": 2
}
